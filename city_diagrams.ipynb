{
 "cells": [
  {
   "cell_type": "code",
   "execution_count": 2,
   "metadata": {},
   "outputs": [],
   "source": [
    "import plotly.express as px\n",
    "import pandas as pd\n",
    "\n",
    "data = { \n",
    "    \"city\": [ \"Karachi\", \"Lahore\", \"Faisalabad\", \"Rawalpindi\", \"Multan\", \"Hyderabad\", \"Gjuranwala\", \"Peshawar\", \"Rahim Yar Khan\", \"Quetta\" ],\n",
    "    \"population\": [ \"11 624 219\", \"6 310 888\", \"2 506 595\", \"1 743 101\", \"1 437 230\", \"1 386 330\", \"1 384 471\", \"1 218 773\", \"788 915\", \"733 675\" ]\n",
    "}\n",
    "\n",
    "df = pd.DataFrame(data)\n",
    "\n",
    "df[\"population\"] = df[\"population\"].str.replace(\" \",\"\").astype(int)\n",
    "\n",
    "df = df.sort_values(by=\"population\", ascending=False)\n",
    "\n",
    "fig_bar = px.bar(df, x=\"city\", y=\"population\",\n",
    "                    title=\"Population of the 10 largest cities if Pakistan (2024)\",\n",
    "                    labels={\"population\": \"population\"},\n",
    "                    color=\"city\", text=\"population\")\n",
    "\n",
    "fig_bar.update_traces(textposition=\"outside\")\n",
    "\n",
    "\n",
    "\n",
    "fig_bar.show(renderer=\"browser\")\n",
    "\n"
   ]
  },
  {
   "cell_type": "code",
   "execution_count": null,
   "metadata": {},
   "outputs": [],
   "source": [
    "import plotly.express as px\n",
    "import pandas as pd\n",
    "\n",
    "data = { \n",
    "    \"city\": [ \"Karachi\", \"Lahore\", \"Faisalabad\", \"Rawalpindi\", \"Multan\", \"Hyderabad\", \"Gjuranwala\", \"Peshawar\", \"Rahim Yar Khan\", \"Quetta\" ],\n",
    "    \"population\": [ \"11 624 219\", \"6 310 888\", \"2 506 595\", \"1 743 101\", \"1 437 230\", \"1 386 330\", \"1 384 471\", \"1 218 773\", \"788 915\", \"733 675\" ]\n",
    "}\n",
    "\n",
    "df = pd.DataFrame(data)\n",
    "\n",
    "df[\"population\"] = df[\"population\"].str.replace(\" \",\"\").astype(int)\n",
    "\n",
    "df = df.sort_values(by=\"population\", ascending=False)\n",
    "\n",
    "fig_pie = px.pie(df, names=\"city\", values=\"population\",\n",
    "                    title=\"Population distribution in 10 biggest Pakistani cities\",\n",
    "                    hole=0)\n",
    "\n",
    "fig_pie.update_traces(pull=[0.1] * len(df)) \n",
    "\n",
    "fig_pie.show(renderer=\"browser\")"
   ]
  }
 ],
 "metadata": {
  "kernelspec": {
   "display_name": ".venv",
   "language": "python",
   "name": "python3"
  },
  "language_info": {
   "codemirror_mode": {
    "name": "ipython",
    "version": 3
   },
   "file_extension": ".py",
   "mimetype": "text/x-python",
   "name": "python",
   "nbconvert_exporter": "python",
   "pygments_lexer": "ipython3",
   "version": "3.12.8"
  }
 },
 "nbformat": 4,
 "nbformat_minor": 2
}
